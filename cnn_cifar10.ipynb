{
  "nbformat": 4,
  "nbformat_minor": 0,
  "metadata": {
    "kernelspec": {
      "display_name": "Python 3",
      "language": "python",
      "name": "python3"
    },
    "language_info": {
      "codemirror_mode": {
        "name": "ipython",
        "version": 3
      },
      "file_extension": ".py",
      "mimetype": "text/x-python",
      "name": "python",
      "nbconvert_exporter": "python",
      "pygments_lexer": "ipython3",
      "version": "3.8.3"
    },
    "colab": {
      "name": "cnn_cifar10.ipynb",
      "provenance": [],
      "collapsed_sections": []
    },
    "accelerator": "GPU"
  },
  "cells": [
    {
      "cell_type": "markdown",
      "metadata": {
        "id": "SCG3AHjdgxKi"
      },
      "source": [
        "### CNN for image classification \n",
        "In this project, we use a convolutional neural network to solve the problem of image classification from the [CIFAR-10 dataset](https://www.cs.toronto.edu/~kriz/cifar.html). We implement a CNN that reads colour images and classifies them in one of 10 categories. The categories' labels and the respective integer values are the following: \n",
        "\n",
        "- 0: airplane \n",
        "- 1: automobile\n",
        "- 2: bird\n",
        "- 3: cat\n",
        "- 4: deer \n",
        "- 5: dog\n",
        "- 6: frog \n",
        "- 7: horse\n",
        "- 8: ship\n",
        "- 9: truck"
      ]
    },
    {
      "cell_type": "code",
      "metadata": {
        "id": "TNTGQdkCgxKk"
      },
      "source": [
        "import matplotlib.pyplot as plt\n",
        "from tensorflow.keras.datasets import cifar10\n",
        "from tensorflow.keras.utils import to_categorical\n",
        "from tensorflow.keras.models import Sequential\n",
        "from tensorflow.keras.layers import Conv2D, Dense, Flatten, MaxPooling2D, Dropout, BatchNormalization"
      ],
      "execution_count": 1,
      "outputs": []
    },
    {
      "cell_type": "markdown",
      "metadata": {
        "id": "8nU7YgqchWzM"
      },
      "source": [
        "The CIFAR-10 dataset consists of 32-by-32 coloured images (50,000 images for training and 10,000 images for testing). Since the images are colored, there are RGB values for every pixel. Thus, we need one channel for every basic color (red, green, blue), so in total three channels.\n",
        "\n",
        "Our goal is to classify an image based on which aforementioned category belongs to. We can achieve this by converting the output to categorical data via a process called one-hot encoding. This process produces arrays whose elements have the form of 1's and 0's and only one element is 1, indicating which class the image belongs to."
      ]
    },
    {
      "cell_type": "code",
      "metadata": {
        "id": "J7kmn7c5gxKq"
      },
      "source": [
        "def load_data():\n",
        "  (X_train, y_train), (X_test, y_test) = cifar10.load_data()\n",
        "  # Reshape the images into the correct dimensions in order to use them in the CNN\n",
        "  # full-color images have 3 channels: one for red, one for green, and one for blue.\n",
        "  X_train = X_train.reshape((50000, 32, 32, 3)) \n",
        "  X_test = X_test.reshape((10000, 32, 32, 3)) \n",
        "  # One-hot encoding - convert the labels into categorical data\n",
        "  y_train = to_categorical(y_train)\n",
        "  y_test = to_categorical(y_test)\n",
        "  return X_train, y_train, X_test, y_test"
      ],
      "execution_count": 2,
      "outputs": []
    },
    {
      "cell_type": "code",
      "metadata": {
        "id": "AxICtL9deoQB"
      },
      "source": [
        "def normalize_data(X_train, X_test):\n",
        "  X_train = X_train.astype('float32') / 255\n",
        "  X_test = X_test.astype('float32') / 255\n",
        "  return X_train, X_test"
      ],
      "execution_count": 3,
      "outputs": []
    },
    {
      "cell_type": "code",
      "metadata": {
        "id": "BHEqYKJaerDo"
      },
      "source": [
        "def define_model():\n",
        "  # Create the CNN\n",
        "  cnn = Sequential()\n",
        "  # Add layers to the CNN\n",
        "  # The filter's dimensions will be 30-by-30 for a 3-by-3 kernel size (two less than the input dimensions)\n",
        "  # The output for each image will be 30-by-30-by-64-by-3\n",
        "  cnn.add(Conv2D(filters=64, kernel_size=(3, 3), activation='relu', input_shape=(32, 32, 3)))\n",
        "  cnn.add(Dropout(0.2))\n",
        "  cnn.add(Conv2D(filters=64, kernel_size=(3, 3), activation='relu'))\n",
        "  # the pooling layer output's dimensions is 15-by-15-by-64-by-3\n",
        "  cnn.add(MaxPooling2D(pool_size=(2, 2)))\n",
        "  # The output of the convolution layer is 13-by-13-by-128-by-3 ()\n",
        "  cnn.add(Conv2D(filters=128, kernel_size=(3, 3), activation='relu'))\n",
        "  cnn.add(Dropout(0.2))\n",
        "  cnn.add(Conv2D(filters=128, kernel_size=(3, 3), activation='relu'))\n",
        "  # The pooling layer in Keras rounds down odd image dimensions, so the input of the pooling layer is 12-by-12-by-128-by-3\n",
        "  # The output of the pooling layer is 6-by-6-by-128-by-3\n",
        "  cnn.add(MaxPooling2D(pool_size=(2, 2)))\n",
        "  # The flatten's layer output will be 1-by-13824\n",
        "  cnn.add(Flatten())\n",
        "  cnn.add(Dropout(0.2)) \n",
        "  # The next layers recognize larger features and the model classifies the images based on the aforementined categories\n",
        "  cnn.add(Dense(units=4096, activation='relu'))\n",
        "  cnn.add(Dropout(0.2))\n",
        "  cnn.add(Dense(units=1024, activation='relu'))\n",
        "  cnn.add(Dropout(0.2))\n",
        "  cnn.add(Dense(units=10, activation='softmax'))\n",
        "  #cnn.summary()\n",
        "  cnn.compile(optimizer='adam', loss='categorical_crossentropy', metrics=['accuracy'])\n",
        "  return cnn"
      ],
      "execution_count": 4,
      "outputs": []
    },
    {
      "cell_type": "code",
      "metadata": {
        "id": "-YT35zhvCg7d"
      },
      "source": [
        "def plot_results(history):\n",
        "  plt.plot(history.history['accuracy'], label='accuracy')\n",
        "  plt.plot(history.history['val_accuracy'], label = 'val_accuracy')\n",
        "  plt.xlabel('Epoch')\n",
        "  plt.ylabel('Accuracy')\n",
        "  plt.ylim([0, 1])\n",
        "  plt.legend(loc='upper left')"
      ],
      "execution_count": 5,
      "outputs": []
    },
    {
      "cell_type": "code",
      "metadata": {
        "id": "GERIZHJVet2m"
      },
      "source": [
        "def run():\n",
        "  # Load dataset\n",
        "  X_train, y_train, X_test, y_test = load_data()\n",
        "  # Data preparation\n",
        "  X_train, X_test = normalize_data(X_train, X_test)\n",
        "  # Define the model\n",
        "  model = define_model()\n",
        "  # Train the model\n",
        "  history = model.fit(X_train, y_train, epochs=10, validation_data=(X_test, y_test))\n",
        "  # Evaluate model\n",
        "  loss, accuracy = model.evaluate(X_test, y_test)\n",
        "  # Plot the results\n",
        "  plot_results(history)\n",
        "  return loss, accuracy"
      ],
      "execution_count": 6,
      "outputs": []
    },
    {
      "cell_type": "code",
      "metadata": {
        "id": "a-ddGgQoewlu",
        "colab": {
          "base_uri": "https://localhost:8080/",
          "height": 694
        },
        "outputId": "8bf95845-99ba-4298-ea60-da2ed669bf94"
      },
      "source": [
        "# the loss is summation of errors, whereas the accuracy is a percentage\n",
        "loss, accuracy = run()\n",
        "print('The loss is: {:.2f}'.format(loss))\n",
        "print('The accuracy is: {:.2f}%'.format(accuracy))"
      ],
      "execution_count": 7,
      "outputs": [
        {
          "output_type": "stream",
          "text": [
            "Epoch 1/10\n",
            "1563/1563 [==============================] - 16s 10ms/step - loss: 1.5407 - accuracy: 0.4361 - val_loss: 1.2067 - val_accuracy: 0.5583\n",
            "Epoch 2/10\n",
            "1563/1563 [==============================] - 16s 10ms/step - loss: 1.1027 - accuracy: 0.6096 - val_loss: 0.9690 - val_accuracy: 0.6508\n",
            "Epoch 3/10\n",
            "1563/1563 [==============================] - 16s 10ms/step - loss: 0.9131 - accuracy: 0.6800 - val_loss: 0.8505 - val_accuracy: 0.7023\n",
            "Epoch 4/10\n",
            "1563/1563 [==============================] - 16s 10ms/step - loss: 0.7925 - accuracy: 0.7212 - val_loss: 0.8060 - val_accuracy: 0.7241\n",
            "Epoch 5/10\n",
            "1563/1563 [==============================] - 16s 10ms/step - loss: 0.7094 - accuracy: 0.7506 - val_loss: 0.8417 - val_accuracy: 0.7182\n",
            "Epoch 6/10\n",
            "1563/1563 [==============================] - 16s 10ms/step - loss: 0.6354 - accuracy: 0.7778 - val_loss: 0.8036 - val_accuracy: 0.7259\n",
            "Epoch 7/10\n",
            "1563/1563 [==============================] - 16s 10ms/step - loss: 0.5814 - accuracy: 0.7950 - val_loss: 0.8020 - val_accuracy: 0.7293\n",
            "Epoch 8/10\n",
            "1563/1563 [==============================] - 16s 10ms/step - loss: 0.5287 - accuracy: 0.8143 - val_loss: 0.7731 - val_accuracy: 0.7469\n",
            "Epoch 9/10\n",
            "1563/1563 [==============================] - 16s 10ms/step - loss: 0.4769 - accuracy: 0.8323 - val_loss: 0.7969 - val_accuracy: 0.7396\n",
            "Epoch 10/10\n",
            "1563/1563 [==============================] - 16s 10ms/step - loss: 0.4414 - accuracy: 0.8467 - val_loss: 0.7662 - val_accuracy: 0.7588\n",
            "313/313 [==============================] - 1s 3ms/step - loss: 0.7662 - accuracy: 0.7588\n",
            "The loss is: 0.77\n",
            "The accuracy is: 0.76%\n"
          ],
          "name": "stdout"
        },
        {
          "output_type": "display_data",
          "data": {
            "image/png": "[encoded data removed]",
            "text/plain": [
              "<Figure size 432x288 with 1 Axes>"
            ]
          },
          "metadata": {
            "tags": [],
            "needs_background": "light"
          }
        }
      ]
    }
  ]
}